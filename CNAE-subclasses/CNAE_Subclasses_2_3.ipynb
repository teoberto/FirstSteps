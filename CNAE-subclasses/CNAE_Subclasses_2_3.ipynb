{
  "nbformat": 4,
  "nbformat_minor": 0,
  "metadata": {
    "colab": {
      "provenance": [],
      "mount_file_id": "1kIroa4s-p4VF-g2kh_39M_hxQGhPwXZR",
      "authorship_tag": "ABX9TyPq3Zt25SUTuXsqugG/JGD9",
      "include_colab_link": true
    },
    "kernelspec": {
      "name": "python3",
      "display_name": "Python 3"
    },
    "language_info": {
      "name": "python"
    }
  },
  "cells": [
    {
      "cell_type": "markdown",
      "metadata": {
        "id": "view-in-github",
        "colab_type": "text"
      },
      "source": [
        "<a href=\"https://colab.research.google.com/github/teoberto/FirstSteps/blob/main/CNAE_Subclasses_2_3.ipynb\" target=\"_parent\"><img src=\"https://colab.research.google.com/assets/colab-badge.svg\" alt=\"Open In Colab\"/></a>"
      ]
    },
    {
      "cell_type": "markdown",
      "source": [
        "**Classificação Nacional de Atividades Econômicas (CNAE)**, de gestão do IBGE.\n",
        "\n",
        "Extração dos dados da planilha [CNAE-Subclasses 2.3](https://concla.ibge.gov.br/images/concla/documentacao/CNAE_Subclasses_2_3_Estrutura_Detalhada.xlsx).\n",
        "\n",
        "A CNAE é estruturada de forma hierarquizada em cinco níveis, seções,divisões, grupos, classes e subclasses.\n",
        "\n",
        "\n",
        "---\n",
        "\n",
        "\n",
        "Exemplo:\n",
        "\n",
        "Seção: A - Agricultura, pecuária, produção fl orestal, pesca e aqüicultura\n",
        "\n",
        "Divisão: 01 - Agricultura, pecuária e serviços relacionados\n",
        "\n",
        "Grupo: 01.1 - Produção de lavouras temporárias\n",
        "\n",
        "Classe: 01.11-3 - Cultivo de cereais\n",
        "\n",
        "Subclasse: 0111-3/01 - Cultivo de arroz\n"
      ],
      "metadata": {
        "id": "VNolISvdmlM0"
      }
    },
    {
      "cell_type": "code",
      "source": [
        "import pandas as pd"
      ],
      "metadata": {
        "id": "ydhjiWCYrKN7"
      },
      "execution_count": 4,
      "outputs": []
    },
    {
      "cell_type": "code",
      "source": [
        "# Caso seja possível o acesso direto da URL\n",
        "diretorio = 'https://concla.ibge.gov.br/images/concla/documentacao/CNAE_Subclasses_2_3_Estrutura_Detalhada.xlsx'"
      ],
      "metadata": {
        "id": "HbtXU5Sfq5L8"
      },
      "execution_count": 5,
      "outputs": []
    },
    {
      "cell_type": "code",
      "source": [
        "# Diretorio local\n",
        "diretorio = '/diretorio/CNAE_Subclasses_2_3_Estrutura_Detalhada.xlsx'"
      ],
      "metadata": {
        "id": "LY2rCqBSrSkb"
      },
      "execution_count": 6,
      "outputs": []
    },
    {
      "cell_type": "code",
      "source": [
        "df = pd.read_excel(diretorio, header=3, dtype=str)"
      ],
      "metadata": {
        "id": "VAgmRHqguaRL"
      },
      "execution_count": 7,
      "outputs": []
    },
    {
      "cell_type": "code",
      "source": [
        "# Nomeia coluna\n",
        "df.columns = ['cd_secao', 'cd_divisao', 'cd_grupo', 'cd_classe','cd_subclasse', 'ds_denominacao']"
      ],
      "metadata": {
        "id": "PE2JFSSksnMr"
      },
      "execution_count": 8,
      "outputs": []
    },
    {
      "cell_type": "code",
      "source": [
        "# Substitui ponto, traço e barra por vazio\n",
        "col_remove_ponto = ['cd_grupo', 'cd_classe','cd_subclasse']\n",
        "\n",
        "for coluna in col_remove_ponto:\n",
        "    df[coluna] = df[coluna].str.replace('[\\./-]', '', regex=True)"
      ],
      "metadata": {
        "id": "fLcf6nP_y_YJ"
      },
      "execution_count": 9,
      "outputs": []
    },
    {
      "cell_type": "code",
      "source": [
        "# Preencher a Seção para cada subclasse\n",
        "df['cd_secao'].fillna(method='ffill', inplace=True)"
      ],
      "metadata": {
        "id": "2Db_5OzB2JVJ"
      },
      "execution_count": 10,
      "outputs": []
    },
    {
      "cell_type": "code",
      "source": [
        "# Data frame específico - DIVISÃO\n",
        "df_divisao = df.dropna(subset=['cd_divisao'])\n",
        "df_divisao = df_divisao[['cd_divisao','ds_denominacao']]\n",
        "df_divisao.rename(columns={'ds_denominacao': 'ds_divisao'}, inplace=True)"
      ],
      "metadata": {
        "id": "weSBoF48xKyq"
      },
      "execution_count": 11,
      "outputs": []
    },
    {
      "cell_type": "code",
      "source": [
        "# Data frame específico - GRUPO\n",
        "df_grupo = df.dropna(subset=['cd_grupo'])\n",
        "df_grupo = df_grupo[['cd_grupo','ds_denominacao']]\n",
        "df_grupo.rename(columns={'ds_denominacao': 'ds_grupo'}, inplace=True)"
      ],
      "metadata": {
        "id": "YHM8LiGSxeFb"
      },
      "execution_count": 12,
      "outputs": []
    },
    {
      "cell_type": "code",
      "source": [
        "# Data frame específico - CLASSE\n",
        "df_classe = df.dropna(subset=['cd_classe'])\n",
        "df_classe = df_classe[['cd_classe','ds_denominacao']]\n",
        "df_classe.rename(columns={'ds_denominacao': 'ds_classe'}, inplace=True)"
      ],
      "metadata": {
        "id": "Q_8XkbkM5Bfq"
      },
      "execution_count": 13,
      "outputs": []
    },
    {
      "cell_type": "code",
      "source": [
        "# Data frame principal - SUBCLASSE\n",
        "df_subclasse = df.dropna(subset=['cd_subclasse'])\n",
        "df_subclasse = df_subclasse[['cd_subclasse','ds_denominacao','cd_secao']]\n",
        "df_subclasse.rename(columns={'ds_denominacao': 'ds_subclasse'}, inplace=True)\n",
        "\n",
        "# divisao 2, grupo 3, classe 5\n",
        "df_subclasse['cd_divisao'] = df_subclasse['cd_subclasse'].str[:2]\n",
        "df_subclasse['cd_grupo'] = df_subclasse['cd_subclasse'].str[:3]\n",
        "df_subclasse['cd_classe'] = df_subclasse['cd_subclasse'].str[:5]"
      ],
      "metadata": {
        "id": "cHNqdZ2Az9eT"
      },
      "execution_count": 14,
      "outputs": []
    },
    {
      "cell_type": "code",
      "source": [
        "# Associa divisão, grupo e classe para cada subcnae\n",
        "df_subclasse = df_subclasse\\\n",
        "  .merge(df_divisao, on='cd_divisao', how = 'left')\\\n",
        "  .merge(df_grupo, on='cd_grupo', how = 'left')\\\n",
        "  .merge(df_classe, on='cd_classe', how = 'left')"
      ],
      "metadata": {
        "id": "BQCm-dpXx1zq"
      },
      "execution_count": 15,
      "outputs": []
    },
    {
      "cell_type": "code",
      "source": [
        "#df_subclasse.isnull().sum()\n",
        "#df_subclasse.nunique()"
      ],
      "metadata": {
        "id": "8W0YETIJ4vMZ"
      },
      "execution_count": 16,
      "outputs": []
    },
    {
      "cell_type": "code",
      "source": [
        "# Grava arquivo final\n",
        "df_subclasse.to_csv('/diretorio/tb_cnae_subclasse.csv', index=False, sep=';', encoding='iso-8859-1')"
      ],
      "metadata": {
        "id": "mjkOuCWp7A-5"
      },
      "execution_count": 17,
      "outputs": []
    }
  ]
}